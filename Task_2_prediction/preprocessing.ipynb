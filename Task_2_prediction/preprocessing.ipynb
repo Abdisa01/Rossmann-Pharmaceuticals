{
 "cells": [
  {
   "cell_type": "code",
   "execution_count": 1,
   "metadata": {},
   "outputs": [],
   "source": [
    "import pandas as pd\n",
    "import numpy as np\n",
    "from sklearn.preprocessing import StandardScaler\n",
    "import logging"
   ]
  },
  {
   "cell_type": "code",
   "execution_count": 2,
   "metadata": {},
   "outputs": [],
   "source": [
    "logging.basicConfig(level=logging.INFO, format='%(asctime)s - %(levelname)s - %(message)s')\n",
    "logger = logging.getLogger(__name__)"
   ]
  },
  {
   "cell_type": "code",
   "execution_count": 4,
   "metadata": {},
   "outputs": [],
   "source": [
    "train_data = pd.read_csv('C:\\\\Users\\\\Abdilala\\\\Documents\\\\GitHub\\\\Data-weak4\\\\Data\\\\rossmann-store-sales\\\\train.csv', low_memory=False)\n",
    "test_data = pd.read_csv('C:\\\\Users\\\\Abdilala\\\\Documents\\\\GitHub\\\\Data-weak4\\\\Data\\\\rossmann-store-sales\\\\test.csv', low_memory=False)"
   ]
  },
  {
   "cell_type": "code",
   "execution_count": 5,
   "metadata": {},
   "outputs": [
    {
     "name": "stderr",
     "output_type": "stream",
     "text": [
      "2025-01-03 11:39:26,922 - INFO - Starting data preprocessing.\n"
     ]
    }
   ],
   "source": [
    "logger.info(\"Starting data preprocessing.\")"
   ]
  },
  {
   "cell_type": "code",
   "execution_count": 7,
   "metadata": {},
   "outputs": [
    {
     "name": "stderr",
     "output_type": "stream",
     "text": [
      "2025-01-03 11:41:08,845 - INFO - Handling NaN values.\n"
     ]
    }
   ],
   "source": [
    "# Step 1: Handle NaN values\n",
    "logger.info(\"Handling NaN values.\")\n",
    "train_data.ffill(inplace=True)"
   ]
  },
  {
   "cell_type": "code",
   "execution_count": 8,
   "metadata": {},
   "outputs": [
    {
     "name": "stderr",
     "output_type": "stream",
     "text": [
      "2025-01-03 11:41:44,518 - INFO - Extracting features from datetime columns.\n"
     ]
    }
   ],
   "source": [
    "#Feature Extraction from datetime columns\n",
    "logger.info(\"Extracting features from datetime columns.\")"
   ]
  },
  {
   "cell_type": "code",
   "execution_count": 9,
   "metadata": {},
   "outputs": [],
   "source": [
    "train_data['Date'] = pd.to_datetime(train_data['Date'])"
   ]
  },
  {
   "cell_type": "code",
   "execution_count": 10,
   "metadata": {},
   "outputs": [],
   "source": [
    "# Create new features\n",
    "train_data['Weekday'] = train_data['Date'].dt.weekday  # 0 = Monday, 6 = Sunday\n",
    "train_data['Is_Weekend'] = (train_data['Weekday'] >= 5).astype(int) \n",
    "train_data['Days_to_Holiday'] = train_data['Date'].apply(lambda x: (pd.to_datetime('2023-12-25') - x).days)  \n",
    "train_data['Days_After_Holiday'] = train_data['Date'].apply(lambda x: (x - pd.to_datetime('2023-12-25')).days if x >= pd.to_datetime('2023-12-25') else 0)"
   ]
  },
  {
   "cell_type": "code",
   "execution_count": 11,
   "metadata": {},
   "outputs": [],
   "source": [
    "# Beginning, mid, and end of the month\n",
    "train_data['Beginning_of_Month'] = (train_data['Date'].dt.day <= 10).astype(int)\n",
    "train_data['Mid_of_Month'] = ((train_data['Date'].dt.day > 10) & (train_data['Date'].dt.day <= 20)).astype(int)\n",
    "train_data['End_of_Month'] = (train_data['Date'].dt.day > 20).astype(int)\n"
   ]
  },
  {
   "cell_type": "code",
   "execution_count": 12,
   "metadata": {},
   "outputs": [],
   "source": [
    "train_data['Month'] = train_data['Date'].dt.month  # Month as a feature\n",
    "train_data['Year'] = train_data['Date'].dt.year"
   ]
  },
  {
   "cell_type": "code",
   "execution_count": 13,
   "metadata": {},
   "outputs": [
    {
     "name": "stderr",
     "output_type": "stream",
     "text": [
      "2025-01-03 12:16:13,309 - INFO - Feature extraction completed.\n"
     ]
    }
   ],
   "source": [
    "logger.info(\"Feature extraction completed.\")"
   ]
  },
  {
   "cell_type": "code",
   "execution_count": 14,
   "metadata": {},
   "outputs": [
    {
     "name": "stderr",
     "output_type": "stream",
     "text": [
      "2025-01-03 12:16:16,887 - INFO - Scaling the data.\n"
     ]
    }
   ],
   "source": [
    "logger.info(\"Scaling the data.\")\n",
    "features_to_scale = ['Weekday', 'Is_Weekend', 'Days_to_Holiday', 'Days_After_Holiday', \n",
    "                     'Beginning_of_Month', 'Mid_of_Month', 'End_of_Month', 'Month', 'Year']"
   ]
  },
  {
   "cell_type": "code",
   "execution_count": 15,
   "metadata": {},
   "outputs": [],
   "source": [
    "scaler = StandardScaler()\n",
    "train_data[features_to_scale] = scaler.fit_transform(train_data[features_to_scale])"
   ]
  },
  {
   "cell_type": "code",
   "execution_count": 16,
   "metadata": {},
   "outputs": [
    {
     "name": "stderr",
     "output_type": "stream",
     "text": [
      "2025-01-03 12:16:21,923 - INFO - Data scaling completed.\n"
     ]
    }
   ],
   "source": [
    "logger.info(\"Data scaling completed.\")"
   ]
  }
 ],
 "metadata": {
  "kernelspec": {
   "display_name": "base",
   "language": "python",
   "name": "python3"
  },
  "language_info": {
   "codemirror_mode": {
    "name": "ipython",
    "version": 3
   },
   "file_extension": ".py",
   "mimetype": "text/x-python",
   "name": "python",
   "nbconvert_exporter": "python",
   "pygments_lexer": "ipython3",
   "version": "3.11.7"
  }
 },
 "nbformat": 4,
 "nbformat_minor": 2
}
